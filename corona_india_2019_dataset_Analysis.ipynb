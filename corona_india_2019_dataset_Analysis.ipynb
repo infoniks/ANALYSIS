{
 "cells": [
  {
   "cell_type": "markdown",
   "metadata": {},
   "source": [
    "# Corona @2019-20 -- Analysis &  Visualization --"
   ]
  },
  {
   "cell_type": "code",
   "execution_count": 63,
   "metadata": {
    "colab": {},
    "colab_type": "code",
    "id": "jxHBqyfQDBx4"
   },
   "outputs": [],
   "source": [
    "import pandas as pd\n",
    "import warnings\n",
    "df = pd.read_csv('covid_19.csv')"
   ]
  },
  {
   "cell_type": "code",
   "execution_count": 67,
   "metadata": {},
   "outputs": [
    {
     "data": {
      "text/plain": [
       "(950670, 18)"
      ]
     },
     "execution_count": 67,
     "metadata": {},
     "output_type": "execute_result"
    }
   ],
   "source": [
    "df.shape"
   ]
  },
  {
   "cell_type": "code",
   "execution_count": 64,
   "metadata": {},
   "outputs": [
    {
     "data": {
      "text/html": [
       "<div>\n",
       "<style scoped>\n",
       "    .dataframe tbody tr th:only-of-type {\n",
       "        vertical-align: middle;\n",
       "    }\n",
       "\n",
       "    .dataframe tbody tr th {\n",
       "        vertical-align: top;\n",
       "    }\n",
       "\n",
       "    .dataframe thead th {\n",
       "        text-align: right;\n",
       "    }\n",
       "</style>\n",
       "<table border=\"1\" class=\"dataframe\">\n",
       "  <thead>\n",
       "    <tr style=\"text-align: right;\">\n",
       "      <th></th>\n",
       "      <th>Case_Type</th>\n",
       "      <th>People_Total_Tested_Count</th>\n",
       "      <th>Cases</th>\n",
       "      <th>Difference</th>\n",
       "      <th>Date</th>\n",
       "      <th>Combined_Key</th>\n",
       "      <th>Country_Region</th>\n",
       "      <th>Province_State</th>\n",
       "      <th>Admin2</th>\n",
       "      <th>iso2</th>\n",
       "      <th>iso3</th>\n",
       "      <th>FIPS</th>\n",
       "      <th>Lat</th>\n",
       "      <th>Long</th>\n",
       "      <th>Population_Count</th>\n",
       "      <th>People_Hospitalized_Cumulative_Count</th>\n",
       "      <th>Data_Source</th>\n",
       "      <th>Prep_Flow_Runtime</th>\n",
       "    </tr>\n",
       "  </thead>\n",
       "  <tbody>\n",
       "    <tr>\n",
       "      <th>0</th>\n",
       "      <td>Confirmed</td>\n",
       "      <td>NaN</td>\n",
       "      <td>6</td>\n",
       "      <td>0</td>\n",
       "      <td>5/22/2020</td>\n",
       "      <td>Western Sahara</td>\n",
       "      <td>Western Sahara</td>\n",
       "      <td>NaN</td>\n",
       "      <td>NaN</td>\n",
       "      <td>EH</td>\n",
       "      <td>ESH</td>\n",
       "      <td>NaN</td>\n",
       "      <td>24.215500</td>\n",
       "      <td>-12.885800</td>\n",
       "      <td>597330.0</td>\n",
       "      <td>NaN</td>\n",
       "      <td>2019 Novel Coronavirus COVID-19 (2019-nCoV) Da...</td>\n",
       "      <td>6/4/2020 11:15:39 PM</td>\n",
       "    </tr>\n",
       "    <tr>\n",
       "      <th>1</th>\n",
       "      <td>Confirmed</td>\n",
       "      <td>NaN</td>\n",
       "      <td>0</td>\n",
       "      <td>0</td>\n",
       "      <td>2/3/2020</td>\n",
       "      <td>Switzerland</td>\n",
       "      <td>Switzerland</td>\n",
       "      <td>NaN</td>\n",
       "      <td>NaN</td>\n",
       "      <td>CH</td>\n",
       "      <td>CHE</td>\n",
       "      <td>NaN</td>\n",
       "      <td>46.818200</td>\n",
       "      <td>8.227500</td>\n",
       "      <td>8654618.0</td>\n",
       "      <td>NaN</td>\n",
       "      <td>2019 Novel Coronavirus COVID-19 (2019-nCoV) Da...</td>\n",
       "      <td>6/4/2020 11:15:39 PM</td>\n",
       "    </tr>\n",
       "    <tr>\n",
       "      <th>2</th>\n",
       "      <td>Deaths</td>\n",
       "      <td>NaN</td>\n",
       "      <td>0</td>\n",
       "      <td>0</td>\n",
       "      <td>3/1/2020</td>\n",
       "      <td>Cyprus</td>\n",
       "      <td>Cyprus</td>\n",
       "      <td>NaN</td>\n",
       "      <td>NaN</td>\n",
       "      <td>CY</td>\n",
       "      <td>CYP</td>\n",
       "      <td>NaN</td>\n",
       "      <td>35.126400</td>\n",
       "      <td>33.429900</td>\n",
       "      <td>1207361.0</td>\n",
       "      <td>NaN</td>\n",
       "      <td>2019 Novel Coronavirus COVID-19 (2019-nCoV) Da...</td>\n",
       "      <td>6/4/2020 11:15:39 PM</td>\n",
       "    </tr>\n",
       "    <tr>\n",
       "      <th>3</th>\n",
       "      <td>Confirmed</td>\n",
       "      <td>NaN</td>\n",
       "      <td>23</td>\n",
       "      <td>0</td>\n",
       "      <td>4/21/2020</td>\n",
       "      <td>Antigua and Barbuda</td>\n",
       "      <td>Antigua and Barbuda</td>\n",
       "      <td>NaN</td>\n",
       "      <td>NaN</td>\n",
       "      <td>AG</td>\n",
       "      <td>ATG</td>\n",
       "      <td>NaN</td>\n",
       "      <td>17.060800</td>\n",
       "      <td>-61.796400</td>\n",
       "      <td>97928.0</td>\n",
       "      <td>NaN</td>\n",
       "      <td>2019 Novel Coronavirus COVID-19 (2019-nCoV) Da...</td>\n",
       "      <td>6/4/2020 11:15:39 PM</td>\n",
       "    </tr>\n",
       "    <tr>\n",
       "      <th>4</th>\n",
       "      <td>Deaths</td>\n",
       "      <td>NaN</td>\n",
       "      <td>56</td>\n",
       "      <td>0</td>\n",
       "      <td>5/11/2020</td>\n",
       "      <td>Thailand</td>\n",
       "      <td>Thailand</td>\n",
       "      <td>NaN</td>\n",
       "      <td>NaN</td>\n",
       "      <td>TH</td>\n",
       "      <td>THA</td>\n",
       "      <td>NaN</td>\n",
       "      <td>15.870032</td>\n",
       "      <td>100.992541</td>\n",
       "      <td>69799978.0</td>\n",
       "      <td>NaN</td>\n",
       "      <td>2019 Novel Coronavirus COVID-19 (2019-nCoV) Da...</td>\n",
       "      <td>6/4/2020 11:15:39 PM</td>\n",
       "    </tr>\n",
       "  </tbody>\n",
       "</table>\n",
       "</div>"
      ],
      "text/plain": [
       "   Case_Type  People_Total_Tested_Count  Cases  Difference       Date  \\\n",
       "0  Confirmed                        NaN      6           0  5/22/2020   \n",
       "1  Confirmed                        NaN      0           0   2/3/2020   \n",
       "2     Deaths                        NaN      0           0   3/1/2020   \n",
       "3  Confirmed                        NaN     23           0  4/21/2020   \n",
       "4     Deaths                        NaN     56           0  5/11/2020   \n",
       "\n",
       "          Combined_Key       Country_Region Province_State Admin2 iso2 iso3  \\\n",
       "0       Western Sahara       Western Sahara            NaN    NaN   EH  ESH   \n",
       "1          Switzerland          Switzerland            NaN    NaN   CH  CHE   \n",
       "2               Cyprus               Cyprus            NaN    NaN   CY  CYP   \n",
       "3  Antigua and Barbuda  Antigua and Barbuda            NaN    NaN   AG  ATG   \n",
       "4             Thailand             Thailand            NaN    NaN   TH  THA   \n",
       "\n",
       "   FIPS        Lat        Long  Population_Count  \\\n",
       "0   NaN  24.215500  -12.885800          597330.0   \n",
       "1   NaN  46.818200    8.227500         8654618.0   \n",
       "2   NaN  35.126400   33.429900         1207361.0   \n",
       "3   NaN  17.060800  -61.796400           97928.0   \n",
       "4   NaN  15.870032  100.992541        69799978.0   \n",
       "\n",
       "   People_Hospitalized_Cumulative_Count  \\\n",
       "0                                   NaN   \n",
       "1                                   NaN   \n",
       "2                                   NaN   \n",
       "3                                   NaN   \n",
       "4                                   NaN   \n",
       "\n",
       "                                         Data_Source     Prep_Flow_Runtime  \n",
       "0  2019 Novel Coronavirus COVID-19 (2019-nCoV) Da...  6/4/2020 11:15:39 PM  \n",
       "1  2019 Novel Coronavirus COVID-19 (2019-nCoV) Da...  6/4/2020 11:15:39 PM  \n",
       "2  2019 Novel Coronavirus COVID-19 (2019-nCoV) Da...  6/4/2020 11:15:39 PM  \n",
       "3  2019 Novel Coronavirus COVID-19 (2019-nCoV) Da...  6/4/2020 11:15:39 PM  \n",
       "4  2019 Novel Coronavirus COVID-19 (2019-nCoV) Da...  6/4/2020 11:15:39 PM  "
      ]
     },
     "execution_count": 64,
     "metadata": {},
     "output_type": "execute_result"
    }
   ],
   "source": [
    "df.head(5)"
   ]
  },
  {
   "cell_type": "code",
   "execution_count": 65,
   "metadata": {},
   "outputs": [
    {
     "data": {
      "text/plain": [
       "Case_Type                                object\n",
       "People_Total_Tested_Count               float64\n",
       "Cases                                     int64\n",
       "Difference                                int64\n",
       "Date                                     object\n",
       "Combined_Key                             object\n",
       "Country_Region                           object\n",
       "Province_State                           object\n",
       "Admin2                                   object\n",
       "iso2                                     object\n",
       "iso3                                     object\n",
       "FIPS                                    float64\n",
       "Lat                                     float64\n",
       "Long                                    float64\n",
       "Population_Count                        float64\n",
       "People_Hospitalized_Cumulative_Count    float64\n",
       "Data_Source                              object\n",
       "Prep_Flow_Runtime                        object\n",
       "dtype: object"
      ]
     },
     "execution_count": 65,
     "metadata": {},
     "output_type": "execute_result"
    }
   ],
   "source": [
    "df.dtypes"
   ]
  },
  {
   "cell_type": "code",
   "execution_count": 24,
   "metadata": {
    "colab": {
     "base_uri": "https://localhost:8080/",
     "height": 570
    },
    "colab_type": "code",
    "id": "agzh02CTDGBZ",
    "outputId": "6864cfc8-ff1e-4e81-d676-0a77f5e4f380"
   },
   "outputs": [
    {
     "data": {
      "text/html": [
       "<div>\n",
       "<style scoped>\n",
       "    .dataframe tbody tr th:only-of-type {\n",
       "        vertical-align: middle;\n",
       "    }\n",
       "\n",
       "    .dataframe tbody tr th {\n",
       "        vertical-align: top;\n",
       "    }\n",
       "\n",
       "    .dataframe thead th {\n",
       "        text-align: right;\n",
       "    }\n",
       "</style>\n",
       "<table border=\"1\" class=\"dataframe\">\n",
       "  <thead>\n",
       "    <tr style=\"text-align: right;\">\n",
       "      <th></th>\n",
       "      <th>Case_Type</th>\n",
       "      <th>People_Total_Tested_Count</th>\n",
       "      <th>Cases</th>\n",
       "      <th>Difference</th>\n",
       "      <th>Date</th>\n",
       "      <th>Combined_Key</th>\n",
       "      <th>Country_Region</th>\n",
       "      <th>Province_State</th>\n",
       "      <th>Admin2</th>\n",
       "      <th>iso2</th>\n",
       "      <th>iso3</th>\n",
       "      <th>FIPS</th>\n",
       "      <th>Lat</th>\n",
       "      <th>Long</th>\n",
       "      <th>Population_Count</th>\n",
       "      <th>People_Hospitalized_Cumulative_Count</th>\n",
       "      <th>Data_Source</th>\n",
       "      <th>Prep_Flow_Runtime</th>\n",
       "    </tr>\n",
       "  </thead>\n",
       "  <tbody>\n",
       "    <tr>\n",
       "      <th>0</th>\n",
       "      <td>Confirmed</td>\n",
       "      <td>NaN</td>\n",
       "      <td>6</td>\n",
       "      <td>0</td>\n",
       "      <td>2020-05-22</td>\n",
       "      <td>Western Sahara</td>\n",
       "      <td>Western Sahara</td>\n",
       "      <td>NaN</td>\n",
       "      <td>NaN</td>\n",
       "      <td>EH</td>\n",
       "      <td>ESH</td>\n",
       "      <td>NaN</td>\n",
       "      <td>24.2155</td>\n",
       "      <td>-12.8858</td>\n",
       "      <td>597330.0</td>\n",
       "      <td>NaN</td>\n",
       "      <td>2019 Novel Coronavirus COVID-19 (2019-nCoV) Da...</td>\n",
       "      <td>6/4/2020 11:15:39 PM</td>\n",
       "    </tr>\n",
       "    <tr>\n",
       "      <th>1</th>\n",
       "      <td>Confirmed</td>\n",
       "      <td>NaN</td>\n",
       "      <td>0</td>\n",
       "      <td>0</td>\n",
       "      <td>2020-02-03</td>\n",
       "      <td>Switzerland</td>\n",
       "      <td>Switzerland</td>\n",
       "      <td>NaN</td>\n",
       "      <td>NaN</td>\n",
       "      <td>CH</td>\n",
       "      <td>CHE</td>\n",
       "      <td>NaN</td>\n",
       "      <td>46.8182</td>\n",
       "      <td>8.2275</td>\n",
       "      <td>8654618.0</td>\n",
       "      <td>NaN</td>\n",
       "      <td>2019 Novel Coronavirus COVID-19 (2019-nCoV) Da...</td>\n",
       "      <td>6/4/2020 11:15:39 PM</td>\n",
       "    </tr>\n",
       "    <tr>\n",
       "      <th>2</th>\n",
       "      <td>Deaths</td>\n",
       "      <td>NaN</td>\n",
       "      <td>0</td>\n",
       "      <td>0</td>\n",
       "      <td>2020-03-01</td>\n",
       "      <td>Cyprus</td>\n",
       "      <td>Cyprus</td>\n",
       "      <td>NaN</td>\n",
       "      <td>NaN</td>\n",
       "      <td>CY</td>\n",
       "      <td>CYP</td>\n",
       "      <td>NaN</td>\n",
       "      <td>35.1264</td>\n",
       "      <td>33.4299</td>\n",
       "      <td>1207361.0</td>\n",
       "      <td>NaN</td>\n",
       "      <td>2019 Novel Coronavirus COVID-19 (2019-nCoV) Da...</td>\n",
       "      <td>6/4/2020 11:15:39 PM</td>\n",
       "    </tr>\n",
       "  </tbody>\n",
       "</table>\n",
       "</div>"
      ],
      "text/plain": [
       "   Case_Type  People_Total_Tested_Count  Cases  Difference       Date  \\\n",
       "0  Confirmed                        NaN      6           0 2020-05-22   \n",
       "1  Confirmed                        NaN      0           0 2020-02-03   \n",
       "2     Deaths                        NaN      0           0 2020-03-01   \n",
       "\n",
       "     Combined_Key  Country_Region Province_State Admin2 iso2 iso3  FIPS  \\\n",
       "0  Western Sahara  Western Sahara            NaN    NaN   EH  ESH   NaN   \n",
       "1     Switzerland     Switzerland            NaN    NaN   CH  CHE   NaN   \n",
       "2          Cyprus          Cyprus            NaN    NaN   CY  CYP   NaN   \n",
       "\n",
       "       Lat     Long  Population_Count  People_Hospitalized_Cumulative_Count  \\\n",
       "0  24.2155 -12.8858          597330.0                                   NaN   \n",
       "1  46.8182   8.2275         8654618.0                                   NaN   \n",
       "2  35.1264  33.4299         1207361.0                                   NaN   \n",
       "\n",
       "                                         Data_Source     Prep_Flow_Runtime  \n",
       "0  2019 Novel Coronavirus COVID-19 (2019-nCoV) Da...  6/4/2020 11:15:39 PM  \n",
       "1  2019 Novel Coronavirus COVID-19 (2019-nCoV) Da...  6/4/2020 11:15:39 PM  \n",
       "2  2019 Novel Coronavirus COVID-19 (2019-nCoV) Da...  6/4/2020 11:15:39 PM  "
      ]
     },
     "execution_count": 24,
     "metadata": {},
     "output_type": "execute_result"
    }
   ],
   "source": [
    "df['Date']=pd.to_datetime(df.Date)\n",
    "df.head(3)"
   ]
  },
  {
   "cell_type": "code",
   "execution_count": 27,
   "metadata": {},
   "outputs": [
    {
     "data": {
      "text/plain": [
       "(950670, 18)"
      ]
     },
     "execution_count": 27,
     "metadata": {},
     "output_type": "execute_result"
    }
   ],
   "source": [
    "df.shape"
   ]
  },
  {
   "cell_type": "code",
   "execution_count": 28,
   "metadata": {},
   "outputs": [
    {
     "data": {
      "text/plain": [
       "Case_Type                                       object\n",
       "People_Total_Tested_Count                      float64\n",
       "Cases                                            int64\n",
       "Difference                                       int64\n",
       "Date                                    datetime64[ns]\n",
       "Combined_Key                                    object\n",
       "Country_Region                                  object\n",
       "Province_State                                  object\n",
       "Admin2                                          object\n",
       "iso2                                            object\n",
       "iso3                                            object\n",
       "FIPS                                           float64\n",
       "Lat                                            float64\n",
       "Long                                           float64\n",
       "Population_Count                               float64\n",
       "People_Hospitalized_Cumulative_Count           float64\n",
       "Data_Source                                     object\n",
       "Prep_Flow_Runtime                               object\n",
       "dtype: object"
      ]
     },
     "execution_count": 28,
     "metadata": {},
     "output_type": "execute_result"
    }
   ],
   "source": [
    "df.dtypes"
   ]
  },
  {
   "cell_type": "code",
   "execution_count": 25,
   "metadata": {
    "colab": {
     "base_uri": "https://localhost:8080/",
     "height": 402
    },
    "colab_type": "code",
    "id": "C6QFJAw0D3g8",
    "outputId": "fe93f87d-5801-4728-b14c-3349e5653088"
   },
   "outputs": [
    {
     "data": {
      "text/plain": [
       "(270, 18)"
      ]
     },
     "execution_count": 25,
     "metadata": {},
     "output_type": "execute_result"
    }
   ],
   "source": [
    "df1=df[df['Country_Region']=='India']\n",
    "df1.shape"
   ]
  },
  {
   "cell_type": "code",
   "execution_count": 26,
   "metadata": {
    "colab": {
     "base_uri": "https://localhost:8080/",
     "height": 195
    },
    "colab_type": "code",
    "id": "YyMv3UCoEOiW",
    "outputId": "93623e41-6993-4a12-f43a-54a64869a47a"
   },
   "outputs": [
    {
     "data": {
      "text/plain": [
       "(135, 18)"
      ]
     },
     "execution_count": 26,
     "metadata": {},
     "output_type": "execute_result"
    }
   ],
   "source": [
    "df2=df1[df1['Case_Type']=='Confirmed']\n",
    "df2.shape"
   ]
  },
  {
   "cell_type": "code",
   "execution_count": 29,
   "metadata": {
    "colab": {},
    "colab_type": "code",
    "id": "41nqdHNRFFaY"
   },
   "outputs": [],
   "source": [
    "df2=df2.sort_values(by='Date')"
   ]
  },
  {
   "cell_type": "code",
   "execution_count": 30,
   "metadata": {
    "scrolled": true
   },
   "outputs": [
    {
     "data": {
      "text/html": [
       "<div>\n",
       "<style scoped>\n",
       "    .dataframe tbody tr th:only-of-type {\n",
       "        vertical-align: middle;\n",
       "    }\n",
       "\n",
       "    .dataframe tbody tr th {\n",
       "        vertical-align: top;\n",
       "    }\n",
       "\n",
       "    .dataframe thead th {\n",
       "        text-align: right;\n",
       "    }\n",
       "</style>\n",
       "<table border=\"1\" class=\"dataframe\">\n",
       "  <thead>\n",
       "    <tr style=\"text-align: right;\">\n",
       "      <th></th>\n",
       "      <th>Case_Type</th>\n",
       "      <th>People_Total_Tested_Count</th>\n",
       "      <th>Cases</th>\n",
       "      <th>Difference</th>\n",
       "      <th>Date</th>\n",
       "      <th>Combined_Key</th>\n",
       "      <th>Country_Region</th>\n",
       "      <th>Province_State</th>\n",
       "      <th>Admin2</th>\n",
       "      <th>iso2</th>\n",
       "      <th>iso3</th>\n",
       "      <th>FIPS</th>\n",
       "      <th>Lat</th>\n",
       "      <th>Long</th>\n",
       "      <th>Population_Count</th>\n",
       "      <th>People_Hospitalized_Cumulative_Count</th>\n",
       "      <th>Data_Source</th>\n",
       "      <th>Prep_Flow_Runtime</th>\n",
       "    </tr>\n",
       "  </thead>\n",
       "  <tbody>\n",
       "    <tr>\n",
       "      <th>943061</th>\n",
       "      <td>Confirmed</td>\n",
       "      <td>NaN</td>\n",
       "      <td>0</td>\n",
       "      <td>0</td>\n",
       "      <td>2020-01-22</td>\n",
       "      <td>India</td>\n",
       "      <td>India</td>\n",
       "      <td>NaN</td>\n",
       "      <td>NaN</td>\n",
       "      <td>IN</td>\n",
       "      <td>IND</td>\n",
       "      <td>NaN</td>\n",
       "      <td>20.593684</td>\n",
       "      <td>78.96288</td>\n",
       "      <td>1.380004e+09</td>\n",
       "      <td>NaN</td>\n",
       "      <td>2019 Novel Coronavirus COVID-19 (2019-nCoV) Da...</td>\n",
       "      <td>6/4/2020 11:15:39 PM</td>\n",
       "    </tr>\n",
       "    <tr>\n",
       "      <th>47344</th>\n",
       "      <td>Confirmed</td>\n",
       "      <td>NaN</td>\n",
       "      <td>0</td>\n",
       "      <td>0</td>\n",
       "      <td>2020-01-23</td>\n",
       "      <td>India</td>\n",
       "      <td>India</td>\n",
       "      <td>NaN</td>\n",
       "      <td>NaN</td>\n",
       "      <td>IN</td>\n",
       "      <td>IND</td>\n",
       "      <td>NaN</td>\n",
       "      <td>20.593684</td>\n",
       "      <td>78.96288</td>\n",
       "      <td>1.380004e+09</td>\n",
       "      <td>NaN</td>\n",
       "      <td>2019 Novel Coronavirus COVID-19 (2019-nCoV) Da...</td>\n",
       "      <td>6/4/2020 11:15:39 PM</td>\n",
       "    </tr>\n",
       "    <tr>\n",
       "      <th>42576</th>\n",
       "      <td>Confirmed</td>\n",
       "      <td>NaN</td>\n",
       "      <td>0</td>\n",
       "      <td>0</td>\n",
       "      <td>2020-01-24</td>\n",
       "      <td>India</td>\n",
       "      <td>India</td>\n",
       "      <td>NaN</td>\n",
       "      <td>NaN</td>\n",
       "      <td>IN</td>\n",
       "      <td>IND</td>\n",
       "      <td>NaN</td>\n",
       "      <td>20.593684</td>\n",
       "      <td>78.96288</td>\n",
       "      <td>1.380004e+09</td>\n",
       "      <td>NaN</td>\n",
       "      <td>2019 Novel Coronavirus COVID-19 (2019-nCoV) Da...</td>\n",
       "      <td>6/4/2020 11:15:39 PM</td>\n",
       "    </tr>\n",
       "  </tbody>\n",
       "</table>\n",
       "</div>"
      ],
      "text/plain": [
       "        Case_Type  People_Total_Tested_Count  Cases  Difference       Date  \\\n",
       "943061  Confirmed                        NaN      0           0 2020-01-22   \n",
       "47344   Confirmed                        NaN      0           0 2020-01-23   \n",
       "42576   Confirmed                        NaN      0           0 2020-01-24   \n",
       "\n",
       "       Combined_Key Country_Region Province_State Admin2 iso2 iso3  FIPS  \\\n",
       "943061        India          India            NaN    NaN   IN  IND   NaN   \n",
       "47344         India          India            NaN    NaN   IN  IND   NaN   \n",
       "42576         India          India            NaN    NaN   IN  IND   NaN   \n",
       "\n",
       "              Lat      Long  Population_Count  \\\n",
       "943061  20.593684  78.96288      1.380004e+09   \n",
       "47344   20.593684  78.96288      1.380004e+09   \n",
       "42576   20.593684  78.96288      1.380004e+09   \n",
       "\n",
       "        People_Hospitalized_Cumulative_Count  \\\n",
       "943061                                   NaN   \n",
       "47344                                    NaN   \n",
       "42576                                    NaN   \n",
       "\n",
       "                                              Data_Source  \\\n",
       "943061  2019 Novel Coronavirus COVID-19 (2019-nCoV) Da...   \n",
       "47344   2019 Novel Coronavirus COVID-19 (2019-nCoV) Da...   \n",
       "42576   2019 Novel Coronavirus COVID-19 (2019-nCoV) Da...   \n",
       "\n",
       "           Prep_Flow_Runtime  \n",
       "943061  6/4/2020 11:15:39 PM  \n",
       "47344   6/4/2020 11:15:39 PM  \n",
       "42576   6/4/2020 11:15:39 PM  "
      ]
     },
     "execution_count": 30,
     "metadata": {},
     "output_type": "execute_result"
    }
   ],
   "source": [
    "df2.head(3)"
   ]
  },
  {
   "cell_type": "code",
   "execution_count": 42,
   "metadata": {},
   "outputs": [],
   "source": [
    "dff=df2['Case_Type']=='Confirmed'"
   ]
  },
  {
   "cell_type": "code",
   "execution_count": 45,
   "metadata": {
    "colab": {
     "base_uri": "https://localhost:8080/",
     "height": 403
    },
    "colab_type": "code",
    "id": "HYVlgxGiGh9t",
    "outputId": "f918ca84-ee68-4c7a-8af2-15fcf6a06540"
   },
   "outputs": [
    {
     "data": {
      "text/html": [
       "<div>\n",
       "<style scoped>\n",
       "    .dataframe tbody tr th:only-of-type {\n",
       "        vertical-align: middle;\n",
       "    }\n",
       "\n",
       "    .dataframe tbody tr th {\n",
       "        vertical-align: top;\n",
       "    }\n",
       "\n",
       "    .dataframe thead th {\n",
       "        text-align: right;\n",
       "    }\n",
       "</style>\n",
       "<table border=\"1\" class=\"dataframe\">\n",
       "  <thead>\n",
       "    <tr style=\"text-align: right;\">\n",
       "      <th></th>\n",
       "      <th>Date</th>\n",
       "      <th>Cases</th>\n",
       "      <th>Difference</th>\n",
       "    </tr>\n",
       "  </thead>\n",
       "  <tbody>\n",
       "    <tr>\n",
       "      <th>943061</th>\n",
       "      <td>2020-01-22</td>\n",
       "      <td>0</td>\n",
       "      <td>0</td>\n",
       "    </tr>\n",
       "    <tr>\n",
       "      <th>47344</th>\n",
       "      <td>2020-01-23</td>\n",
       "      <td>0</td>\n",
       "      <td>0</td>\n",
       "    </tr>\n",
       "    <tr>\n",
       "      <th>42576</th>\n",
       "      <td>2020-01-24</td>\n",
       "      <td>0</td>\n",
       "      <td>0</td>\n",
       "    </tr>\n",
       "    <tr>\n",
       "      <th>47469</th>\n",
       "      <td>2020-01-25</td>\n",
       "      <td>0</td>\n",
       "      <td>0</td>\n",
       "    </tr>\n",
       "    <tr>\n",
       "      <th>61858</th>\n",
       "      <td>2020-01-26</td>\n",
       "      <td>0</td>\n",
       "      <td>0</td>\n",
       "    </tr>\n",
       "    <tr>\n",
       "      <th>...</th>\n",
       "      <td>...</td>\n",
       "      <td>...</td>\n",
       "      <td>...</td>\n",
       "    </tr>\n",
       "    <tr>\n",
       "      <th>11609</th>\n",
       "      <td>2020-05-31</td>\n",
       "      <td>190609</td>\n",
       "      <td>8782</td>\n",
       "    </tr>\n",
       "    <tr>\n",
       "      <th>22810</th>\n",
       "      <td>2020-06-01</td>\n",
       "      <td>198370</td>\n",
       "      <td>7761</td>\n",
       "    </tr>\n",
       "    <tr>\n",
       "      <th>65625</th>\n",
       "      <td>2020-06-02</td>\n",
       "      <td>207191</td>\n",
       "      <td>8821</td>\n",
       "    </tr>\n",
       "    <tr>\n",
       "      <th>28818</th>\n",
       "      <td>2020-06-03</td>\n",
       "      <td>216824</td>\n",
       "      <td>9633</td>\n",
       "    </tr>\n",
       "    <tr>\n",
       "      <th>27158</th>\n",
       "      <td>2020-06-04</td>\n",
       "      <td>226713</td>\n",
       "      <td>9889</td>\n",
       "    </tr>\n",
       "  </tbody>\n",
       "</table>\n",
       "<p>135 rows × 3 columns</p>\n",
       "</div>"
      ],
      "text/plain": [
       "             Date   Cases  Difference\n",
       "943061 2020-01-22       0           0\n",
       "47344  2020-01-23       0           0\n",
       "42576  2020-01-24       0           0\n",
       "47469  2020-01-25       0           0\n",
       "61858  2020-01-26       0           0\n",
       "...           ...     ...         ...\n",
       "11609  2020-05-31  190609        8782\n",
       "22810  2020-06-01  198370        7761\n",
       "65625  2020-06-02  207191        8821\n",
       "28818  2020-06-03  216824        9633\n",
       "27158  2020-06-04  226713        9889\n",
       "\n",
       "[135 rows x 3 columns]"
      ]
     },
     "execution_count": 45,
     "metadata": {},
     "output_type": "execute_result"
    }
   ],
   "source": [
    "df3=df2.filter(['Date','Cases','Difference'],axis=1)\n",
    "df3"
   ]
  },
  {
   "cell_type": "code",
   "execution_count": 52,
   "metadata": {},
   "outputs": [
    {
     "data": {
      "text/html": [
       "<div>\n",
       "<style scoped>\n",
       "    .dataframe tbody tr th:only-of-type {\n",
       "        vertical-align: middle;\n",
       "    }\n",
       "\n",
       "    .dataframe tbody tr th {\n",
       "        vertical-align: top;\n",
       "    }\n",
       "\n",
       "    .dataframe thead th {\n",
       "        text-align: right;\n",
       "    }\n",
       "</style>\n",
       "<table border=\"1\" class=\"dataframe\">\n",
       "  <thead>\n",
       "    <tr style=\"text-align: right;\">\n",
       "      <th></th>\n",
       "      <th>Date</th>\n",
       "      <th>Cases</th>\n",
       "      <th>Difference</th>\n",
       "    </tr>\n",
       "  </thead>\n",
       "  <tbody>\n",
       "    <tr>\n",
       "      <th>65535</th>\n",
       "      <td>2020-03-01</td>\n",
       "      <td>3</td>\n",
       "      <td>0</td>\n",
       "    </tr>\n",
       "    <tr>\n",
       "      <th>8501</th>\n",
       "      <td>2020-03-02</td>\n",
       "      <td>5</td>\n",
       "      <td>2</td>\n",
       "    </tr>\n",
       "    <tr>\n",
       "      <th>19753</th>\n",
       "      <td>2020-03-03</td>\n",
       "      <td>5</td>\n",
       "      <td>0</td>\n",
       "    </tr>\n",
       "    <tr>\n",
       "      <th>60215</th>\n",
       "      <td>2020-03-04</td>\n",
       "      <td>28</td>\n",
       "      <td>23</td>\n",
       "    </tr>\n",
       "    <tr>\n",
       "      <th>9977</th>\n",
       "      <td>2020-03-05</td>\n",
       "      <td>30</td>\n",
       "      <td>2</td>\n",
       "    </tr>\n",
       "    <tr>\n",
       "      <th>41536</th>\n",
       "      <td>2020-03-06</td>\n",
       "      <td>31</td>\n",
       "      <td>1</td>\n",
       "    </tr>\n",
       "    <tr>\n",
       "      <th>39287</th>\n",
       "      <td>2020-03-07</td>\n",
       "      <td>34</td>\n",
       "      <td>3</td>\n",
       "    </tr>\n",
       "    <tr>\n",
       "      <th>65377</th>\n",
       "      <td>2020-03-08</td>\n",
       "      <td>39</td>\n",
       "      <td>5</td>\n",
       "    </tr>\n",
       "    <tr>\n",
       "      <th>45034</th>\n",
       "      <td>2020-03-09</td>\n",
       "      <td>43</td>\n",
       "      <td>4</td>\n",
       "    </tr>\n",
       "    <tr>\n",
       "      <th>52112</th>\n",
       "      <td>2020-03-10</td>\n",
       "      <td>56</td>\n",
       "      <td>13</td>\n",
       "    </tr>\n",
       "    <tr>\n",
       "      <th>63165</th>\n",
       "      <td>2020-03-11</td>\n",
       "      <td>62</td>\n",
       "      <td>6</td>\n",
       "    </tr>\n",
       "    <tr>\n",
       "      <th>114438</th>\n",
       "      <td>2020-03-12</td>\n",
       "      <td>73</td>\n",
       "      <td>11</td>\n",
       "    </tr>\n",
       "    <tr>\n",
       "      <th>15348</th>\n",
       "      <td>2020-03-13</td>\n",
       "      <td>82</td>\n",
       "      <td>9</td>\n",
       "    </tr>\n",
       "    <tr>\n",
       "      <th>12393</th>\n",
       "      <td>2020-03-14</td>\n",
       "      <td>102</td>\n",
       "      <td>20</td>\n",
       "    </tr>\n",
       "    <tr>\n",
       "      <th>409</th>\n",
       "      <td>2020-03-15</td>\n",
       "      <td>113</td>\n",
       "      <td>11</td>\n",
       "    </tr>\n",
       "    <tr>\n",
       "      <th>21672</th>\n",
       "      <td>2020-03-16</td>\n",
       "      <td>119</td>\n",
       "      <td>6</td>\n",
       "    </tr>\n",
       "    <tr>\n",
       "      <th>33035</th>\n",
       "      <td>2020-03-17</td>\n",
       "      <td>142</td>\n",
       "      <td>23</td>\n",
       "    </tr>\n",
       "    <tr>\n",
       "      <th>55452</th>\n",
       "      <td>2020-03-18</td>\n",
       "      <td>156</td>\n",
       "      <td>14</td>\n",
       "    </tr>\n",
       "    <tr>\n",
       "      <th>16221</th>\n",
       "      <td>2020-03-19</td>\n",
       "      <td>194</td>\n",
       "      <td>38</td>\n",
       "    </tr>\n",
       "    <tr>\n",
       "      <th>4262</th>\n",
       "      <td>2020-03-20</td>\n",
       "      <td>244</td>\n",
       "      <td>50</td>\n",
       "    </tr>\n",
       "    <tr>\n",
       "      <th>56449</th>\n",
       "      <td>2020-03-21</td>\n",
       "      <td>330</td>\n",
       "      <td>86</td>\n",
       "    </tr>\n",
       "    <tr>\n",
       "      <th>11928</th>\n",
       "      <td>2020-03-22</td>\n",
       "      <td>396</td>\n",
       "      <td>66</td>\n",
       "    </tr>\n",
       "    <tr>\n",
       "      <th>38020</th>\n",
       "      <td>2020-03-23</td>\n",
       "      <td>499</td>\n",
       "      <td>103</td>\n",
       "    </tr>\n",
       "    <tr>\n",
       "      <th>51693</th>\n",
       "      <td>2020-03-24</td>\n",
       "      <td>536</td>\n",
       "      <td>37</td>\n",
       "    </tr>\n",
       "    <tr>\n",
       "      <th>34327</th>\n",
       "      <td>2020-03-25</td>\n",
       "      <td>657</td>\n",
       "      <td>121</td>\n",
       "    </tr>\n",
       "    <tr>\n",
       "      <th>63018</th>\n",
       "      <td>2020-03-26</td>\n",
       "      <td>727</td>\n",
       "      <td>70</td>\n",
       "    </tr>\n",
       "    <tr>\n",
       "      <th>36139</th>\n",
       "      <td>2020-03-27</td>\n",
       "      <td>887</td>\n",
       "      <td>160</td>\n",
       "    </tr>\n",
       "    <tr>\n",
       "      <th>676</th>\n",
       "      <td>2020-03-28</td>\n",
       "      <td>987</td>\n",
       "      <td>100</td>\n",
       "    </tr>\n",
       "    <tr>\n",
       "      <th>4235</th>\n",
       "      <td>2020-03-29</td>\n",
       "      <td>1024</td>\n",
       "      <td>37</td>\n",
       "    </tr>\n",
       "    <tr>\n",
       "      <th>55978</th>\n",
       "      <td>2020-03-30</td>\n",
       "      <td>1251</td>\n",
       "      <td>227</td>\n",
       "    </tr>\n",
       "    <tr>\n",
       "      <th>66337</th>\n",
       "      <td>2020-03-31</td>\n",
       "      <td>1397</td>\n",
       "      <td>146</td>\n",
       "    </tr>\n",
       "  </tbody>\n",
       "</table>\n",
       "</div>"
      ],
      "text/plain": [
       "             Date  Cases  Difference\n",
       "65535  2020-03-01      3           0\n",
       "8501   2020-03-02      5           2\n",
       "19753  2020-03-03      5           0\n",
       "60215  2020-03-04     28          23\n",
       "9977   2020-03-05     30           2\n",
       "41536  2020-03-06     31           1\n",
       "39287  2020-03-07     34           3\n",
       "65377  2020-03-08     39           5\n",
       "45034  2020-03-09     43           4\n",
       "52112  2020-03-10     56          13\n",
       "63165  2020-03-11     62           6\n",
       "114438 2020-03-12     73          11\n",
       "15348  2020-03-13     82           9\n",
       "12393  2020-03-14    102          20\n",
       "409    2020-03-15    113          11\n",
       "21672  2020-03-16    119           6\n",
       "33035  2020-03-17    142          23\n",
       "55452  2020-03-18    156          14\n",
       "16221  2020-03-19    194          38\n",
       "4262   2020-03-20    244          50\n",
       "56449  2020-03-21    330          86\n",
       "11928  2020-03-22    396          66\n",
       "38020  2020-03-23    499         103\n",
       "51693  2020-03-24    536          37\n",
       "34327  2020-03-25    657         121\n",
       "63018  2020-03-26    727          70\n",
       "36139  2020-03-27    887         160\n",
       "676    2020-03-28    987         100\n",
       "4235   2020-03-29   1024          37\n",
       "55978  2020-03-30   1251         227\n",
       "66337  2020-03-31   1397         146"
      ]
     },
     "execution_count": 52,
     "metadata": {},
     "output_type": "execute_result"
    }
   ],
   "source": [
    "df4=df3.iloc[39:70]\n",
    "df4"
   ]
  },
  {
   "cell_type": "code",
   "execution_count": 53,
   "metadata": {
    "colab": {
     "base_uri": "https://localhost:8080/",
     "height": 279
    },
    "colab_type": "code",
    "id": "ioJqD_QPbvAs",
    "outputId": "3a52e081-057f-4665-a501-32c609001338"
   },
   "outputs": [
    {
     "data": {
      "image/png": "[encoded data removed]",
      "text/plain": [
       "<Figure size 432x288 with 1 Axes>"
      ]
     },
     "metadata": {
      "needs_background": "light"
     },
     "output_type": "display_data"
    }
   ],
   "source": [
    "import matplotlib.pyplot as plt\n",
    "plt.plot(df4['Date'].dt.day,df4['Cases'])\n",
    "plt.xlabel('Date(from March 1st)')\n",
    "plt.ylabel('Cases')\n",
    "plt.grid(which='major', linestyle='-', linewidth='0.5', color='red')"
   ]
  },
  {
   "cell_type": "code",
   "execution_count": 54,
   "metadata": {
    "colab": {
     "base_uri": "https://localhost:8080/",
     "height": 279
    },
    "colab_type": "code",
    "id": "7j3R4uBqZHs2",
    "outputId": "04f6c1ef-2b20-4393-a31c-8780f8b8fc65"
   },
   "outputs": [
    {
     "data": {
      "image/png": "[encoded data removed]",
      "text/plain": [
       "<Figure size 432x288 with 1 Axes>"
      ]
     },
     "metadata": {
      "needs_background": "light"
     },
     "output_type": "display_data"
    }
   ],
   "source": [
    "plt.plot(df4['Date'].dt.day,df4['Difference'])\n",
    "plt.xlabel('Date(from March 1st)')\n",
    "plt.ylabel('New cases on day')\n",
    "plt.grid(which='major', linestyle='-', linewidth='0.5', color='red')\n",
    "plt.grid(which='minor', linestyle=':', linewidth='1', color='red')"
   ]
  },
  {
   "cell_type": "code",
   "execution_count": 55,
   "metadata": {
    "colab": {
     "base_uri": "https://localhost:8080/",
     "height": 303
    },
    "colab_type": "code",
    "id": "fyZ0ujPVdf-P",
    "outputId": "632c9f48-9029-4f38-951a-a51ec043daee"
   },
   "outputs": [
    {
     "data": {
      "image/png": "[encoded data removed]",
      "text/plain": [
       "<Figure size 432x288 with 1 Axes>"
      ]
     },
     "metadata": {
      "needs_background": "light"
     },
     "output_type": "display_data"
    }
   ],
   "source": [
    "fig, ax = plt.subplots()\n",
    "df4.plot(kind='line', x='Date', y='Cases', ax=ax)\n",
    "ax.grid(axis='both',linestyle='-', linewidth='0.5', color='red')\n",
    "\n",
    "# Turn on the minor TICKS, which are required for the minor GRID\n",
    "#ax.minorticks_on()\n",
    "\n",
    "# Customize the major grid#\n",
    "ax.grid(which='major', linestyle='-', linewidth='0.5', color='red')\n",
    "# Customize the minor grid\n",
    "ax.grid(which='minor', linestyle=':', linewidth='0.5', color='black')"
   ]
  },
  {
   "cell_type": "code",
   "execution_count": 57,
   "metadata": {
    "colab": {
     "base_uri": "https://localhost:8080/",
     "height": 303
    },
    "colab_type": "code",
    "id": "8FtSe3mAbGsr",
    "outputId": "a8467f17-d7bf-4e1f-b887-df1fc14b5026"
   },
   "outputs": [
    {
     "data": {
      "image/png": "[encoded data removed]",
      "text/plain": [
       "<Figure size 432x288 with 1 Axes>"
      ]
     },
     "metadata": {
      "needs_background": "light"
     },
     "output_type": "display_data"
    }
   ],
   "source": [
    "fig, ax = plt.subplots()\n",
    "df4.plot(kind='line', x='Date', y='Difference', ax=ax)\n",
    "ax.grid(axis='both',linestyle='-', linewidth='0.5', color='red')\n",
    "\n",
    "# Turn on the minor TICKS, which are required for the minor GRID\n",
    "#ax.minorticks_on()\n",
    "\n",
    "# Customize the major grid#\n",
    "ax.grid(which='major', linestyle='-', linewidth='0.5', color='red')\n",
    "# Customize the minor grid\n",
    "ax.grid(which='minor', linestyle=':', linewidth='0.5', color='black')"
   ]
  },
  {
   "cell_type": "code",
   "execution_count": null,
   "metadata": {},
   "outputs": [],
   "source": []
  }
 ],
 "metadata": {
  "colab": {
   "collapsed_sections": [],
   "name": "Untitled2.ipynb",
   "provenance": []
  },
  "kernelspec": {
   "display_name": "Python 3",
   "language": "python",
   "name": "python3"
  },
  "language_info": {
   "codemirror_mode": {
    "name": "ipython",
    "version": 3
   },
   "file_extension": ".py",
   "mimetype": "text/x-python",
   "name": "python",
   "nbconvert_exporter": "python",
   "pygments_lexer": "ipython3",
   "version": "3.7.6"
  }
 },
 "nbformat": 4,
 "nbformat_minor": 1
}
